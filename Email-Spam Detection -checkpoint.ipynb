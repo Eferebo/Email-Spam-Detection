{
 "cells": [
  {
   "cell_type": "code",
   "execution_count": 1,
   "id": "da8ae2ff",
   "metadata": {},
   "outputs": [],
   "source": [
    "import os \n",
    "import glob"
   ]
  },
  {
   "cell_type": "code",
   "execution_count": 2,
   "id": "3ed9f0d2",
   "metadata": {},
   "outputs": [],
   "source": [
    "emails,labels = [],[]"
   ]
  },
  {
   "cell_type": "markdown",
   "id": "bc4bbe1e",
   "metadata": {},
   "source": [
    "### Reading the files from where they are been stored into emails and labels"
   ]
  },
  {
   "cell_type": "markdown",
   "id": "d7cc7e20",
   "metadata": {},
   "source": [
    "#### Emails which are spam will get a label of 1 and Emails which are ham or legitimate emails will get the label 0"
   ]
  },
  {
   "cell_type": "code",
   "execution_count": 3,
   "id": "9bdbb327",
   "metadata": {},
   "outputs": [],
   "source": [
    "path_1 = '/users/HP/Downloads/email/enron1/spam/'\n",
    "for filename in glob.glob(os.path.join(path_1,'*.txt')):\n",
    "    with open(filename,'r',encoding='ISO-8859-1') as file:\n",
    "        emails.append(file.read())\n",
    "        labels.append(1)\n",
    "        \n",
    "        \n",
    "        \n",
    "path_0 = '/users/HP/Downloads/email/enron1/ham/'\n",
    "for filename in glob.glob(os.path.join(path_0,'*.txt')):\n",
    "    with open(filename,'r',encoding='ISO-8859-1') as file:\n",
    "        emails.append(file.read())\n",
    "        labels.append(0)"
   ]
  },
  {
   "cell_type": "code",
   "execution_count": 4,
   "id": "e610baeb",
   "metadata": {},
   "outputs": [
    {
     "data": {
      "text/plain": [
       "5172"
      ]
     },
     "execution_count": 4,
     "metadata": {},
     "output_type": "execute_result"
    }
   ],
   "source": [
    "len(emails)"
   ]
  },
  {
   "cell_type": "code",
   "execution_count": 5,
   "id": "0af3c22f",
   "metadata": {},
   "outputs": [],
   "source": [
    "path_1 = '/users/HP/Downloads/email/enron2/spam/'\n",
    "for filename in glob.glob(os.path.join(path_1,'*.txt')):\n",
    "    with open(filename,'r',encoding='ISO-8859-1') as file:\n",
    "        emails.append(file.read())\n",
    "        labels.append(1)\n",
    "        \n",
    "        \n",
    "        \n",
    "path_0 = '/users/HP/Downloads/email/enron2/ham/'\n",
    "for filename in glob.glob(os.path.join(path_0,'*.txt')):\n",
    "    with open(filename,'r',encoding='ISO-8859-1') as file:\n",
    "        emails.append(file.read())\n",
    "        labels.append(0)"
   ]
  },
  {
   "cell_type": "code",
   "execution_count": 6,
   "id": "66d6f383",
   "metadata": {},
   "outputs": [
    {
     "data": {
      "text/plain": [
       "11029"
      ]
     },
     "execution_count": 6,
     "metadata": {},
     "output_type": "execute_result"
    }
   ],
   "source": [
    "len(emails)"
   ]
  },
  {
   "cell_type": "code",
   "execution_count": 7,
   "id": "df432bbf",
   "metadata": {},
   "outputs": [],
   "source": [
    "path_1 = '/users/HP/Downloads/email/enron3/spam/'\n",
    "for filename in glob.glob(os.path.join(path_1,'*.txt')):\n",
    "    with open(filename,'r',encoding='ISO-8859-1') as file:\n",
    "        emails.append(file.read())\n",
    "        labels.append(1)\n",
    "        \n",
    "        \n",
    "        \n",
    "path_0 = '/users/HP/Downloads/email/enron3/ham/'\n",
    "for filename in glob.glob(os.path.join(path_0,'*.txt')):\n",
    "    with open(filename,'r',encoding='ISO-8859-1') as file:\n",
    "        emails.append(file.read())\n",
    "        labels.append(0)"
   ]
  },
  {
   "cell_type": "code",
   "execution_count": 8,
   "id": "782d0c06",
   "metadata": {},
   "outputs": [
    {
     "data": {
      "text/plain": [
       "16541"
      ]
     },
     "execution_count": 8,
     "metadata": {},
     "output_type": "execute_result"
    }
   ],
   "source": [
    "len(emails)\n"
   ]
  },
  {
   "cell_type": "code",
   "execution_count": 9,
   "id": "b9139cd8",
   "metadata": {},
   "outputs": [],
   "source": [
    "path_1 = '/users/HP/Downloads/email/enron4/spam/'\n",
    "for filename in glob.glob(os.path.join(path_1,'*.txt')):\n",
    "    with open(filename,'r',encoding='ISO-8859-1') as file:\n",
    "        emails.append(file.read())\n",
    "        labels.append(1)\n",
    "        \n",
    "        \n",
    "        \n",
    "path_0 = '/users/HP/Downloads/email/enron4/ham/'\n",
    "for filename in glob.glob(os.path.join(path_0,'*.txt')):\n",
    "    with open(filename,'r',encoding='ISO-8859-1') as file:\n",
    "        emails.append(file.read())\n",
    "        labels.append(0)"
   ]
  },
  {
   "cell_type": "code",
   "execution_count": 10,
   "id": "41c69469",
   "metadata": {},
   "outputs": [
    {
     "data": {
      "text/plain": [
       "22540"
      ]
     },
     "execution_count": 10,
     "metadata": {},
     "output_type": "execute_result"
    }
   ],
   "source": [
    "len(emails)"
   ]
  },
  {
   "cell_type": "code",
   "execution_count": 11,
   "id": "53bb0adb",
   "metadata": {},
   "outputs": [],
   "source": [
    "path_1 = '/users/HP/Downloads/email/enron5/spam/'\n",
    "for filename in glob.glob(os.path.join(path_1,'*.txt')):\n",
    "    with open(filename,'r',encoding='ISO-8859-1') as file:\n",
    "        emails.append(file.read())\n",
    "        labels.append(1)\n",
    "        \n",
    "        \n",
    "        \n",
    "path_0 = '/users/HP/Downloads/email/enron5/ham/'\n",
    "for filename in glob.glob(os.path.join(path_0,'*.txt')):\n",
    "    with open(filename,'r',encoding='ISO-8859-1') as file:\n",
    "        emails.append(file.read())\n",
    "        labels.append(0)"
   ]
  },
  {
   "cell_type": "code",
   "execution_count": 12,
   "id": "aef6c71c",
   "metadata": {},
   "outputs": [
    {
     "data": {
      "text/plain": [
       "27715"
      ]
     },
     "execution_count": 12,
     "metadata": {},
     "output_type": "execute_result"
    }
   ],
   "source": [
    "len(emails)"
   ]
  },
  {
   "cell_type": "code",
   "execution_count": null,
   "id": "7e671c87",
   "metadata": {},
   "outputs": [],
   "source": [
    "path_1 = '/users/HP/Downloads/email/enron6/spam/'\n",
    "for filename in glob.glob(os.path.join(path_1,'*.txt')):\n",
    "    with open(filename,'r',encoding='ISO-8859-1') as file:\n",
    "        emails.append(file.read())\n",
    "        labels.append(1)\n",
    "        \n",
    "        \n",
    "        \n",
    "path_0 = '/users/HP/Downloads/email/enron6/ham/'\n",
    "for filename in glob.glob(os.path.join(path_0,'*.txt')):\n",
    "    with open(filename,'r',encoding='ISO-8859-1') as file:\n",
    "        emails.append(file.read())\n",
    "        labels.append(0)"
   ]
  },
  {
   "cell_type": "code",
   "execution_count": null,
   "id": "2febe457",
   "metadata": {},
   "outputs": [],
   "source": [
    "len(emails)"
   ]
  },
  {
   "cell_type": "code",
   "execution_count": null,
   "id": "c67a6be3",
   "metadata": {},
   "outputs": [],
   "source": [
    "len(labels)"
   ]
  },
  {
   "cell_type": "code",
   "execution_count": null,
   "id": "c63930c5",
   "metadata": {},
   "outputs": [],
   "source": [
    "print('Total number of spam email is ',labels.count(1))\n",
    "print('Total number of ham or legitimate email is ',labels.count(0))"
   ]
  },
  {
   "cell_type": "code",
   "execution_count": null,
   "id": "7ff7d27c",
   "metadata": {},
   "outputs": [],
   "source": [
    "emails[20000]"
   ]
  },
  {
   "cell_type": "code",
   "execution_count": null,
   "id": "1d0f74f1",
   "metadata": {},
   "outputs": [],
   "source": [
    "labels[20000]"
   ]
  },
  {
   "cell_type": "markdown",
   "id": "23f4d8ed",
   "metadata": {},
   "source": [
    "### Cleaning the emails to contain only letters, excluding names of people and other names in the nltk names corpus"
   ]
  },
  {
   "cell_type": "code",
   "execution_count": null,
   "id": "1d023252",
   "metadata": {},
   "outputs": [],
   "source": [
    "from nltk.corpus import names\n",
    "from nltk.stem import WordNetLemmatizer"
   ]
  },
  {
   "cell_type": "code",
   "execution_count": null,
   "id": "d4072824",
   "metadata": {},
   "outputs": [],
   "source": [
    "def letters_only(alphabet):\n",
    "    return alphabet.isalpha()"
   ]
  },
  {
   "cell_type": "code",
   "execution_count": null,
   "id": "0c9e1956",
   "metadata": {},
   "outputs": [],
   "source": [
    "all_names = set(names.words())\n",
    "lemmatizer = WordNetLemmatizer()"
   ]
  },
  {
   "cell_type": "code",
   "execution_count": null,
   "id": "c263edcb",
   "metadata": {},
   "outputs": [],
   "source": [
    "def cleaned_emails(emails) :\n",
    "    clean_emails =  []\n",
    "    for email in emails:\n",
    "        clean_emails.append(\" \".join([lemmatizer.lemmatize(word.lower())\n",
    "                                     for word in email.split()\n",
    "                                     if letters_only(word) \n",
    "                                     and word not in all_names]))\n",
    "    return clean_emails"
   ]
  },
  {
   "cell_type": "code",
   "execution_count": null,
   "id": "120515c9",
   "metadata": {},
   "outputs": [],
   "source": [
    "clean_emails = cleaned_emails(emails)"
   ]
  },
  {
   "cell_type": "code",
   "execution_count": null,
   "id": "04cd398c",
   "metadata": {},
   "outputs": [],
   "source": [
    "clean_emails[20000]"
   ]
  },
  {
   "cell_type": "markdown",
   "id": "0f304a00",
   "metadata": {},
   "source": [
    "### Spliting the cleaned emails and labels into training and testing data"
   ]
  },
  {
   "cell_type": "code",
   "execution_count": null,
   "id": "536845ae",
   "metadata": {},
   "outputs": [],
   "source": [
    "from sklearn.model_selection import train_test_split"
   ]
  },
  {
   "cell_type": "code",
   "execution_count": null,
   "id": "53e54868",
   "metadata": {},
   "outputs": [],
   "source": [
    "X_train, X_test, y_train, y_test = train_test_split(clean_emails,labels,test_size=0.25,random_state=42)"
   ]
  },
  {
   "cell_type": "code",
   "execution_count": null,
   "id": "da3b03dd",
   "metadata": {},
   "outputs": [],
   "source": [
    "print(len(X_train),len(y_train))\n",
    "print(len(X_test),len(y_test))"
   ]
  },
  {
   "cell_type": "code",
   "execution_count": null,
   "id": "0f699487",
   "metadata": {},
   "outputs": [],
   "source": [
    "y_train[:15]"
   ]
  },
  {
   "cell_type": "code",
   "execution_count": null,
   "id": "aa7414ae",
   "metadata": {},
   "outputs": [],
   "source": []
  },
  {
   "cell_type": "code",
   "execution_count": null,
   "id": "90a1d686",
   "metadata": {},
   "outputs": [],
   "source": [
    "from sklearn.feature_extraction.text import CountVectorizer"
   ]
  },
  {
   "cell_type": "code",
   "execution_count": null,
   "id": "ac4cc287",
   "metadata": {},
   "outputs": [],
   "source": [
    "cv = CountVectorizer(stop_words='english',max_features=1000)"
   ]
  },
  {
   "cell_type": "code",
   "execution_count": null,
   "id": "f139871a",
   "metadata": {},
   "outputs": [],
   "source": [
    "emails_train = cv.fit_transform(X_train)"
   ]
  },
  {
   "cell_type": "code",
   "execution_count": null,
   "id": "8e13d483",
   "metadata": {},
   "outputs": [],
   "source": [
    "emails_test = cv.transform(X_test)"
   ]
  },
  {
   "cell_type": "code",
   "execution_count": null,
   "id": "fcd12386",
   "metadata": {},
   "outputs": [],
   "source": [
    "print(emails_train[1])"
   ]
  },
  {
   "cell_type": "code",
   "execution_count": null,
   "id": "1e1e10f1",
   "metadata": {},
   "outputs": [],
   "source": [
    "feature_names = cv.get_feature_names_out()"
   ]
  },
  {
   "cell_type": "code",
   "execution_count": null,
   "id": "deb5d3ff",
   "metadata": {},
   "outputs": [],
   "source": [
    "print(feature_names[240])\n",
    "print(feature_names[322])"
   ]
  },
  {
   "cell_type": "markdown",
   "id": "bed7b794",
   "metadata": {},
   "source": [
    "### Building the model"
   ]
  },
  {
   "cell_type": "code",
   "execution_count": null,
   "id": "7b720cba",
   "metadata": {},
   "outputs": [],
   "source": [
    "from sklearn.naive_bayes import MultinomialNB"
   ]
  },
  {
   "cell_type": "code",
   "execution_count": null,
   "id": "fd7ee08a",
   "metadata": {},
   "outputs": [],
   "source": [
    "MNB = MultinomialNB(alpha=1,fit_prior=True)"
   ]
  },
  {
   "cell_type": "code",
   "execution_count": null,
   "id": "8c3229c7",
   "metadata": {},
   "outputs": [],
   "source": [
    "MNB.fit(emails_train,y_train)"
   ]
  },
  {
   "cell_type": "code",
   "execution_count": null,
   "id": "a6be4a3b",
   "metadata": {},
   "outputs": [],
   "source": [
    "pred_prob = MNB.predict_proba(emails_test)\n",
    "pred_prob[:7]"
   ]
  },
  {
   "cell_type": "code",
   "execution_count": null,
   "id": "ca7b207a",
   "metadata": {},
   "outputs": [],
   "source": [
    "pred = MNB.predict(emails_test)\n",
    "pred[:7]"
   ]
  },
  {
   "cell_type": "code",
   "execution_count": null,
   "id": "488986cd",
   "metadata": {},
   "outputs": [],
   "source": [
    "accuracy = MNB.score(emails_test,y_test)"
   ]
  },
  {
   "cell_type": "code",
   "execution_count": 42,
   "id": "0b34cf9d",
   "metadata": {},
   "outputs": [
    {
     "name": "stdout",
     "output_type": "stream",
     "text": [
      "The accuracy score for MNB model on the test data is 95.97%\n"
     ]
    }
   ],
   "source": [
    "print(\"The accuracy score for MNB model on the test data is {}%\".format(round(accuracy*100,2)))"
   ]
  },
  {
   "cell_type": "markdown",
   "id": "d5c320b5",
   "metadata": {},
   "source": [
    "### Performance Evaluation"
   ]
  },
  {
   "cell_type": "code",
   "execution_count": 43,
   "id": "a5410e5c",
   "metadata": {},
   "outputs": [],
   "source": [
    "from sklearn.metrics import classification_report"
   ]
  },
  {
   "cell_type": "code",
   "execution_count": 47,
   "id": "b78fa675",
   "metadata": {},
   "outputs": [],
   "source": [
    "report = classification_report(y_test,pred)"
   ]
  },
  {
   "cell_type": "code",
   "execution_count": 49,
   "id": "e87b94ce",
   "metadata": {},
   "outputs": [
    {
     "name": "stdout",
     "output_type": "stream",
     "text": [
      "              precision    recall  f1-score   support\n",
      "\n",
      "           0       0.97      0.95      0.96      4152\n",
      "           1       0.95      0.97      0.96      4277\n",
      "\n",
      "    accuracy                           0.96      8429\n",
      "   macro avg       0.96      0.96      0.96      8429\n",
      "weighted avg       0.96      0.96      0.96      8429\n",
      "\n"
     ]
    }
   ],
   "source": [
    "print(report)"
   ]
  },
  {
   "cell_type": "code",
   "execution_count": 57,
   "id": "a3390438",
   "metadata": {},
   "outputs": [],
   "source": [
    "from sklearn.metrics import ConfusionMatrixDisplay, confusion_matrix"
   ]
  },
  {
   "cell_type": "code",
   "execution_count": 63,
   "id": "ba706bef",
   "metadata": {},
   "outputs": [],
   "source": [
    "import matplotlib.pyplot as plt"
   ]
  },
  {
   "cell_type": "code",
   "execution_count": 84,
   "id": "4c1daa5f",
   "metadata": {},
   "outputs": [],
   "source": [
    "metrix = confusion_matrix(pred,y_test)\n"
   ]
  },
  {
   "cell_type": "code",
   "execution_count": 87,
   "id": "041fd511",
   "metadata": {},
   "outputs": [],
   "source": [
    "metrix_display = ConfusionMatrixDisplay(metrix)"
   ]
  },
  {
   "cell_type": "code",
   "execution_count": 88,
   "id": "c93fd743",
   "metadata": {},
   "outputs": [
    {
     "data": {
      "text/plain": [
       "<sklearn.metrics._plot.confusion_matrix.ConfusionMatrixDisplay at 0x24fdc351fd0>"
      ]
     },
     "execution_count": 88,
     "metadata": {},
     "output_type": "execute_result"
    },
    {
     "data": {
      "image/png": "[encoded data removed]",
      "text/plain": [
       "<Figure size 640x480 with 2 Axes>"
      ]
     },
     "metadata": {},
     "output_type": "display_data"
    }
   ],
   "source": [
    "metrix_display.plot()"
   ]
  },
  {
   "cell_type": "code",
   "execution_count": 69,
   "id": "42087884",
   "metadata": {},
   "outputs": [],
   "source": [
    "from sklearn.metrics import roc_auc_score"
   ]
  },
  {
   "cell_type": "code",
   "execution_count": 70,
   "id": "87a3ff21",
   "metadata": {},
   "outputs": [
    {
     "data": {
      "text/plain": [
       "0.9598548022744043"
      ]
     },
     "execution_count": 70,
     "metadata": {},
     "output_type": "execute_result"
    }
   ],
   "source": [
    "score = roc_auc_score(pred,y_test)\n",
    "score"
   ]
  },
  {
   "cell_type": "code",
   "execution_count": null,
   "id": "28b0f3b4",
   "metadata": {},
   "outputs": [],
   "source": []
  }
 ],
 "metadata": {
  "kernelspec": {
   "display_name": "Python 3",
   "language": "python",
   "name": "python3"
  },
  "language_info": {
   "codemirror_mode": {
    "name": "ipython",
    "version": 3
   },
   "file_extension": ".py",
   "mimetype": "text/x-python",
   "name": "python",
   "nbconvert_exporter": "python",
   "pygments_lexer": "ipython3",
   "version": "3.11.5"
  }
 },
 "nbformat": 4,
 "nbformat_minor": 5
}
